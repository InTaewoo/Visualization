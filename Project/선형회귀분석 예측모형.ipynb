{
 "cells": [
  {
   "cell_type": "code",
   "execution_count": 12,
   "id": "04573691-bff4-46cc-af1d-9b2b08c40e32",
   "metadata": {},
   "outputs": [],
   "source": [
    "from sklearn.linear_model import LinearRegression\n",
    "import numpy as np\n",
    "import pandas as pd\n",
    "from fbprophet import Prophet\n",
    "import matplotlib.pyplot as plt\n",
    "import seaborn as sns"
   ]
  },
  {
   "cell_type": "code",
   "execution_count": 2,
   "id": "263a562e-8d65-4604-b84f-71f34359d1b5",
   "metadata": {},
   "outputs": [
    {
     "data": {
      "text/html": [
       "<div>\n",
       "<style scoped>\n",
       "    .dataframe tbody tr th:only-of-type {\n",
       "        vertical-align: middle;\n",
       "    }\n",
       "\n",
       "    .dataframe tbody tr th {\n",
       "        vertical-align: top;\n",
       "    }\n",
       "\n",
       "    .dataframe thead th {\n",
       "        text-align: right;\n",
       "    }\n",
       "</style>\n",
       "<table border=\"1\" class=\"dataframe\">\n",
       "  <thead>\n",
       "    <tr style=\"text-align: right;\">\n",
       "      <th></th>\n",
       "      <th>서울</th>\n",
       "      <th>관용</th>\n",
       "      <th>자가용</th>\n",
       "      <th>영업용</th>\n",
       "      <th>계</th>\n",
       "      <th>말소</th>\n",
       "      <th>실제대수</th>\n",
       "    </tr>\n",
       "  </thead>\n",
       "  <tbody>\n",
       "    <tr>\n",
       "      <th>0</th>\n",
       "      <td>2010-01-01</td>\n",
       "      <td>10521</td>\n",
       "      <td>2729799</td>\n",
       "      <td>215977</td>\n",
       "      <td>2956297</td>\n",
       "      <td>8069</td>\n",
       "      <td>2948228</td>\n",
       "    </tr>\n",
       "    <tr>\n",
       "      <th>1</th>\n",
       "      <td>2010-02-01</td>\n",
       "      <td>10567</td>\n",
       "      <td>2734111</td>\n",
       "      <td>216815</td>\n",
       "      <td>2961493</td>\n",
       "      <td>6948</td>\n",
       "      <td>2954545</td>\n",
       "    </tr>\n",
       "    <tr>\n",
       "      <th>2</th>\n",
       "      <td>2010-03-01</td>\n",
       "      <td>10625</td>\n",
       "      <td>2736078</td>\n",
       "      <td>217805</td>\n",
       "      <td>2964508</td>\n",
       "      <td>8607</td>\n",
       "      <td>2955901</td>\n",
       "    </tr>\n",
       "    <tr>\n",
       "      <th>3</th>\n",
       "      <td>2010-04-01</td>\n",
       "      <td>10735</td>\n",
       "      <td>2739234</td>\n",
       "      <td>218088</td>\n",
       "      <td>2968057</td>\n",
       "      <td>7769</td>\n",
       "      <td>2960288</td>\n",
       "    </tr>\n",
       "    <tr>\n",
       "      <th>4</th>\n",
       "      <td>2010-05-01</td>\n",
       "      <td>10696</td>\n",
       "      <td>2734013</td>\n",
       "      <td>218591</td>\n",
       "      <td>2963300</td>\n",
       "      <td>7773</td>\n",
       "      <td>2955527</td>\n",
       "    </tr>\n",
       "    <tr>\n",
       "      <th>...</th>\n",
       "      <td>...</td>\n",
       "      <td>...</td>\n",
       "      <td>...</td>\n",
       "      <td>...</td>\n",
       "      <td>...</td>\n",
       "      <td>...</td>\n",
       "      <td>...</td>\n",
       "    </tr>\n",
       "    <tr>\n",
       "      <th>133</th>\n",
       "      <td>2021-02-01</td>\n",
       "      <td>12,691</td>\n",
       "      <td>2,942,790</td>\n",
       "      <td>202,621</td>\n",
       "      <td>3,158,102</td>\n",
       "      <td>7489</td>\n",
       "      <td>3150613</td>\n",
       "    </tr>\n",
       "    <tr>\n",
       "      <th>134</th>\n",
       "      <td>2021-03-01</td>\n",
       "      <td>12,610</td>\n",
       "      <td>2,943,678</td>\n",
       "      <td>202,422</td>\n",
       "      <td>3,158,710</td>\n",
       "      <td>10159</td>\n",
       "      <td>3148551</td>\n",
       "    </tr>\n",
       "    <tr>\n",
       "      <th>135</th>\n",
       "      <td>2021-04-01</td>\n",
       "      <td>12,421</td>\n",
       "      <td>2,944,563</td>\n",
       "      <td>202,091</td>\n",
       "      <td>3,159,075</td>\n",
       "      <td>8827</td>\n",
       "      <td>3150248</td>\n",
       "    </tr>\n",
       "    <tr>\n",
       "      <th>136</th>\n",
       "      <td>2021-05-01</td>\n",
       "      <td>12,426</td>\n",
       "      <td>2,946,076</td>\n",
       "      <td>202,127</td>\n",
       "      <td>3,160,629</td>\n",
       "      <td>7844</td>\n",
       "      <td>3152785</td>\n",
       "    </tr>\n",
       "    <tr>\n",
       "      <th>137</th>\n",
       "      <td>2021-06-01</td>\n",
       "      <td>12,513</td>\n",
       "      <td>2,948,098</td>\n",
       "      <td>202,374</td>\n",
       "      <td>3,162,985</td>\n",
       "      <td>8692</td>\n",
       "      <td>3154293</td>\n",
       "    </tr>\n",
       "  </tbody>\n",
       "</table>\n",
       "<p>138 rows × 7 columns</p>\n",
       "</div>"
      ],
      "text/plain": [
       "             서울      관용        자가용      영업용          계     말소     실제대수\n",
       "0    2010-01-01   10521    2729799   215977    2956297   8069  2948228\n",
       "1    2010-02-01   10567    2734111   216815    2961493   6948  2954545\n",
       "2    2010-03-01   10625    2736078   217805    2964508   8607  2955901\n",
       "3    2010-04-01   10735    2739234   218088    2968057   7769  2960288\n",
       "4    2010-05-01   10696    2734013   218591    2963300   7773  2955527\n",
       "..          ...     ...        ...      ...        ...    ...      ...\n",
       "133  2021-02-01  12,691  2,942,790  202,621  3,158,102   7489  3150613\n",
       "134  2021-03-01  12,610  2,943,678  202,422  3,158,710  10159  3148551\n",
       "135  2021-04-01  12,421  2,944,563  202,091  3,159,075   8827  3150248\n",
       "136  2021-05-01  12,426  2,946,076  202,127  3,160,629   7844  3152785\n",
       "137  2021-06-01  12,513  2,948,098  202,374  3,162,985   8692  3154293\n",
       "\n",
       "[138 rows x 7 columns]"
      ]
     },
     "execution_count": 2,
     "metadata": {},
     "output_type": "execute_result"
    }
   ],
   "source": [
    "df = pd.read_csv('dataset.csv')\n",
    "df"
   ]
  },
  {
   "cell_type": "code",
   "execution_count": 3,
   "id": "eeea783e-43f1-4965-be19-0a458e9d6f26",
   "metadata": {},
   "outputs": [],
   "source": [
    "df['year']=df['서울'].str.split('-',expand=True)[0]\n",
    "df"
   ]
  },
  {
   "cell_type": "code",
   "execution_count": 6,
   "id": "ebf43345-7abc-47f4-82b9-7508e8301aa5",
   "metadata": {},
   "outputs": [
    {
     "data": {
      "text/html": [
       "<div>\n",
       "<style scoped>\n",
       "    .dataframe tbody tr th:only-of-type {\n",
       "        vertical-align: middle;\n",
       "    }\n",
       "\n",
       "    .dataframe tbody tr th {\n",
       "        vertical-align: top;\n",
       "    }\n",
       "\n",
       "    .dataframe thead th {\n",
       "        text-align: right;\n",
       "    }\n",
       "</style>\n",
       "<table border=\"1\" class=\"dataframe\">\n",
       "  <thead>\n",
       "    <tr style=\"text-align: right;\">\n",
       "      <th></th>\n",
       "      <th>서울</th>\n",
       "      <th>관용</th>\n",
       "      <th>자가용</th>\n",
       "      <th>영업용</th>\n",
       "      <th>계</th>\n",
       "      <th>말소</th>\n",
       "      <th>실제대수</th>\n",
       "      <th>year</th>\n",
       "      <th>ds</th>\n",
       "      <th>y</th>\n",
       "    </tr>\n",
       "  </thead>\n",
       "  <tbody>\n",
       "    <tr>\n",
       "      <th>0</th>\n",
       "      <td>2010-01-01</td>\n",
       "      <td>10521</td>\n",
       "      <td>2729799</td>\n",
       "      <td>215977</td>\n",
       "      <td>2956297</td>\n",
       "      <td>8069</td>\n",
       "      <td>2948228</td>\n",
       "      <td>2010</td>\n",
       "      <td>2010-01-01</td>\n",
       "      <td>2948228</td>\n",
       "    </tr>\n",
       "    <tr>\n",
       "      <th>1</th>\n",
       "      <td>2010-02-01</td>\n",
       "      <td>10567</td>\n",
       "      <td>2734111</td>\n",
       "      <td>216815</td>\n",
       "      <td>2961493</td>\n",
       "      <td>6948</td>\n",
       "      <td>2954545</td>\n",
       "      <td>2010</td>\n",
       "      <td>2010-02-01</td>\n",
       "      <td>2954545</td>\n",
       "    </tr>\n",
       "    <tr>\n",
       "      <th>2</th>\n",
       "      <td>2010-03-01</td>\n",
       "      <td>10625</td>\n",
       "      <td>2736078</td>\n",
       "      <td>217805</td>\n",
       "      <td>2964508</td>\n",
       "      <td>8607</td>\n",
       "      <td>2955901</td>\n",
       "      <td>2010</td>\n",
       "      <td>2010-03-01</td>\n",
       "      <td>2955901</td>\n",
       "    </tr>\n",
       "    <tr>\n",
       "      <th>3</th>\n",
       "      <td>2010-04-01</td>\n",
       "      <td>10735</td>\n",
       "      <td>2739234</td>\n",
       "      <td>218088</td>\n",
       "      <td>2968057</td>\n",
       "      <td>7769</td>\n",
       "      <td>2960288</td>\n",
       "      <td>2010</td>\n",
       "      <td>2010-04-01</td>\n",
       "      <td>2960288</td>\n",
       "    </tr>\n",
       "    <tr>\n",
       "      <th>4</th>\n",
       "      <td>2010-05-01</td>\n",
       "      <td>10696</td>\n",
       "      <td>2734013</td>\n",
       "      <td>218591</td>\n",
       "      <td>2963300</td>\n",
       "      <td>7773</td>\n",
       "      <td>2955527</td>\n",
       "      <td>2010</td>\n",
       "      <td>2010-05-01</td>\n",
       "      <td>2955527</td>\n",
       "    </tr>\n",
       "    <tr>\n",
       "      <th>...</th>\n",
       "      <td>...</td>\n",
       "      <td>...</td>\n",
       "      <td>...</td>\n",
       "      <td>...</td>\n",
       "      <td>...</td>\n",
       "      <td>...</td>\n",
       "      <td>...</td>\n",
       "      <td>...</td>\n",
       "      <td>...</td>\n",
       "      <td>...</td>\n",
       "    </tr>\n",
       "    <tr>\n",
       "      <th>133</th>\n",
       "      <td>2021-02-01</td>\n",
       "      <td>12,691</td>\n",
       "      <td>2,942,790</td>\n",
       "      <td>202,621</td>\n",
       "      <td>3,158,102</td>\n",
       "      <td>7489</td>\n",
       "      <td>3150613</td>\n",
       "      <td>2021</td>\n",
       "      <td>2021-02-01</td>\n",
       "      <td>3150613</td>\n",
       "    </tr>\n",
       "    <tr>\n",
       "      <th>134</th>\n",
       "      <td>2021-03-01</td>\n",
       "      <td>12,610</td>\n",
       "      <td>2,943,678</td>\n",
       "      <td>202,422</td>\n",
       "      <td>3,158,710</td>\n",
       "      <td>10159</td>\n",
       "      <td>3148551</td>\n",
       "      <td>2021</td>\n",
       "      <td>2021-03-01</td>\n",
       "      <td>3148551</td>\n",
       "    </tr>\n",
       "    <tr>\n",
       "      <th>135</th>\n",
       "      <td>2021-04-01</td>\n",
       "      <td>12,421</td>\n",
       "      <td>2,944,563</td>\n",
       "      <td>202,091</td>\n",
       "      <td>3,159,075</td>\n",
       "      <td>8827</td>\n",
       "      <td>3150248</td>\n",
       "      <td>2021</td>\n",
       "      <td>2021-04-01</td>\n",
       "      <td>3150248</td>\n",
       "    </tr>\n",
       "    <tr>\n",
       "      <th>136</th>\n",
       "      <td>2021-05-01</td>\n",
       "      <td>12,426</td>\n",
       "      <td>2,946,076</td>\n",
       "      <td>202,127</td>\n",
       "      <td>3,160,629</td>\n",
       "      <td>7844</td>\n",
       "      <td>3152785</td>\n",
       "      <td>2021</td>\n",
       "      <td>2021-05-01</td>\n",
       "      <td>3152785</td>\n",
       "    </tr>\n",
       "    <tr>\n",
       "      <th>137</th>\n",
       "      <td>2021-06-01</td>\n",
       "      <td>12,513</td>\n",
       "      <td>2,948,098</td>\n",
       "      <td>202,374</td>\n",
       "      <td>3,162,985</td>\n",
       "      <td>8692</td>\n",
       "      <td>3154293</td>\n",
       "      <td>2021</td>\n",
       "      <td>2021-06-01</td>\n",
       "      <td>3154293</td>\n",
       "    </tr>\n",
       "  </tbody>\n",
       "</table>\n",
       "<p>138 rows × 10 columns</p>\n",
       "</div>"
      ],
      "text/plain": [
       "             서울      관용        자가용      영업용          계     말소     실제대수  year  \\\n",
       "0    2010-01-01   10521    2729799   215977    2956297   8069  2948228  2010   \n",
       "1    2010-02-01   10567    2734111   216815    2961493   6948  2954545  2010   \n",
       "2    2010-03-01   10625    2736078   217805    2964508   8607  2955901  2010   \n",
       "3    2010-04-01   10735    2739234   218088    2968057   7769  2960288  2010   \n",
       "4    2010-05-01   10696    2734013   218591    2963300   7773  2955527  2010   \n",
       "..          ...     ...        ...      ...        ...    ...      ...   ...   \n",
       "133  2021-02-01  12,691  2,942,790  202,621  3,158,102   7489  3150613  2021   \n",
       "134  2021-03-01  12,610  2,943,678  202,422  3,158,710  10159  3148551  2021   \n",
       "135  2021-04-01  12,421  2,944,563  202,091  3,159,075   8827  3150248  2021   \n",
       "136  2021-05-01  12,426  2,946,076  202,127  3,160,629   7844  3152785  2021   \n",
       "137  2021-06-01  12,513  2,948,098  202,374  3,162,985   8692  3154293  2021   \n",
       "\n",
       "             ds        y  \n",
       "0    2010-01-01  2948228  \n",
       "1    2010-02-01  2954545  \n",
       "2    2010-03-01  2955901  \n",
       "3    2010-04-01  2960288  \n",
       "4    2010-05-01  2955527  \n",
       "..          ...      ...  \n",
       "133  2021-02-01  3150613  \n",
       "134  2021-03-01  3148551  \n",
       "135  2021-04-01  3150248  \n",
       "136  2021-05-01  3152785  \n",
       "137  2021-06-01  3154293  \n",
       "\n",
       "[138 rows x 10 columns]"
      ]
     },
     "execution_count": 6,
     "metadata": {},
     "output_type": "execute_result"
    }
   ],
   "source": [
    "df['ds']=df['서울']\n",
    "df['y']=df['실제대수']\n",
    "df"
   ]
  },
  {
   "cell_type": "code",
   "execution_count": 13,
   "id": "f1d7279e-fe1d-4278-a389-e10f1872c961",
   "metadata": {},
   "outputs": [
    {
     "data": {
      "image/png": "[encoded data removed]",
      "text/plain": [
       "<Figure size 432x288 with 1 Axes>"
      ]
     },
     "metadata": {
      "needs_background": "light"
     },
     "output_type": "display_data"
    }
   ],
   "source": [
    "green_diamond = dict(markerfacecolor='g', marker='D')\n",
    "plt.boxplot(df['실제대수'], flierprops=green_diamond)\n",
    "plt.title(\"car box plot\")\n",
    "plt.show()\n"
   ]
  },
  {
   "cell_type": "code",
   "execution_count": 16,
   "id": "b192db84-ac3e-45cf-874d-36ed458fe1cf",
   "metadata": {},
   "outputs": [
    {
     "data": {
      "image/png": "[encoded data removed]",
      "text/plain": [
       "<Figure size 432x288 with 1 Axes>"
      ]
     },
     "metadata": {
      "needs_background": "light"
     },
     "output_type": "display_data"
    }
   ],
   "source": [
    "green_diamond = dict(markerfacecolor='g', marker='D')\n",
    "plt.boxplot(df['실제대수'], vert=False, flierprops=green_diamond)\n",
    "plt.title(\"tips box plot\")\n",
    "plt.show()"
   ]
  },
  {
   "cell_type": "code",
   "execution_count": 17,
   "id": "a8867018-07d5-4ac7-be07-925c3222e33f",
   "metadata": {},
   "outputs": [
    {
     "name": "stderr",
     "output_type": "stream",
     "text": [
      "INFO:matplotlib.category:Using categorical units to plot a list of strings that are all parsable as floats or dates. If these strings should be plotted as numbers, cast to the appropriate data type before plotting.\n",
      "INFO:matplotlib.category:Using categorical units to plot a list of strings that are all parsable as floats or dates. If these strings should be plotted as numbers, cast to the appropriate data type before plotting.\n"
     ]
    },
    {
     "data": {
      "image/png": "[encoded data removed]",
      "text/plain": [
       "<Figure size 432x288 with 1 Axes>"
      ]
     },
     "metadata": {
      "needs_background": "light"
     },
     "output_type": "display_data"
    }
   ],
   "source": [
    "X = df[\"year\"]\n",
    "y = df[\"y\"]\n",
    "plt.plot(X, y, 'o')\n",
    "plt.show()"
   ]
  },
  {
   "cell_type": "code",
   "execution_count": 18,
   "id": "49b217a9-e7c0-472e-90ae-504cf37c7835",
   "metadata": {},
   "outputs": [
    {
     "data": {
      "text/plain": [
       "LinearRegression()"
      ]
     },
     "execution_count": 18,
     "metadata": {},
     "output_type": "execute_result"
    }
   ],
   "source": [
    "line_fitter = LinearRegression()\n",
    "line_fitter.fit(X.values.reshape(-1,1), y)"
   ]
  },
  {
   "cell_type": "code",
   "execution_count": 22,
   "id": "534a600c-e2c5-43e4-8edc-4de1ff771661",
   "metadata": {},
   "outputs": [
    {
     "data": {
      "text/plain": [
       "array([3173125.02124629])"
      ]
     },
     "execution_count": 22,
     "metadata": {},
     "output_type": "execute_result"
    }
   ],
   "source": [
    "line_fitter.predict([[2022]])"
   ]
  },
  {
   "cell_type": "code",
   "execution_count": 20,
   "id": "6201726e-f772-43da-acec-d611d5ef6563",
   "metadata": {},
   "outputs": [
    {
     "name": "stderr",
     "output_type": "stream",
     "text": [
      "INFO:matplotlib.category:Using categorical units to plot a list of strings that are all parsable as floats or dates. If these strings should be plotted as numbers, cast to the appropriate data type before plotting.\n",
      "INFO:matplotlib.category:Using categorical units to plot a list of strings that are all parsable as floats or dates. If these strings should be plotted as numbers, cast to the appropriate data type before plotting.\n",
      "INFO:matplotlib.category:Using categorical units to plot a list of strings that are all parsable as floats or dates. If these strings should be plotted as numbers, cast to the appropriate data type before plotting.\n",
      "INFO:matplotlib.category:Using categorical units to plot a list of strings that are all parsable as floats or dates. If these strings should be plotted as numbers, cast to the appropriate data type before plotting.\n"
     ]
    },
    {
     "data": {
      "image/png": "[encoded data removed]",
      "text/plain": [
       "<Figure size 432x288 with 1 Axes>"
      ]
     },
     "metadata": {
      "needs_background": "light"
     },
     "output_type": "display_data"
    }
   ],
   "source": [
    "plt.plot(X, y, 'o')\n",
    "plt.plot(X,line_fitter.predict(X.values.reshape(-1,1)))\n",
    "plt.show()"
   ]
  },
  {
   "cell_type": "code",
   "execution_count": null,
   "id": "80475225-6c74-4b47-80bf-76ccc43fcff7",
   "metadata": {},
   "outputs": [],
   "source": []
  }
 ],
 "metadata": {
  "kernelspec": {
   "display_name": "Python Multi",
   "language": "python",
   "name": "multi"
  },
  "language_info": {
   "codemirror_mode": {
    "name": "ipython",
    "version": 3
   },
   "file_extension": ".py",
   "mimetype": "text/x-python",
   "name": "python",
   "nbconvert_exporter": "python",
   "pygments_lexer": "ipython3",
   "version": "3.7.6"
  }
 },
 "nbformat": 4,
 "nbformat_minor": 5
}
