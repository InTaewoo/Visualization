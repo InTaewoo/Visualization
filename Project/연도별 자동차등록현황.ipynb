{
 "cells": [
  {
   "cell_type": "code",
   "execution_count": 56,
   "id": "e2e803dc-014d-4294-9eb6-7852ccad10a1",
   "metadata": {},
   "outputs": [],
   "source": [
    "#서울시 자동차 등록현황\n",
    "import pandas as pd\n",
    "import numpy as np\n",
    "import seaborn as sns\n",
    "from matplotlib import pyplot as plt\n",
    "import matplotlib\n",
    "matplotlib.rcParams['font.family']\n",
    "matplotlib.rcParams['font.family'] = 'AppleGothic'\n",
    "matplotlib.rcParams['axes.unicode_minus'] = False # 한글폰트 지정후 깨지는거 방지\n",
    "%matplotlib inline"
   ]
  },
  {
   "cell_type": "code",
   "execution_count": 57,
   "id": "9d793dc0-49b1-412a-a6e4-2ce24dfd6540",
   "metadata": {},
   "outputs": [
    {
     "data": {
      "text/plain": [
       "{'자동차등록대수': [2978000,\n",
       "  2969000,\n",
       "  2973000,\n",
       "  3013000,\n",
       "  3057000,\n",
       "  3083000,\n",
       "  3116000,\n",
       "  3124000,\n",
       "  3124000,\n",
       "  3157000],\n",
       " '자가용승용차등록대수': [2302000,\n",
       "  2317000,\n",
       "  2338000,\n",
       "  2387000,\n",
       "  2437000,\n",
       "  2475000,\n",
       "  2514000,\n",
       "  2527000,\n",
       "  2539000,\n",
       "  2940000]}"
      ]
     },
     "execution_count": 57,
     "metadata": {},
     "output_type": "execute_result"
    }
   ],
   "source": [
    "data = {'자동차등록대수' : [2978000,2969000,2973000,3013000,3057000,3083000,3116000,3124000,3124000,3157000],\n",
    "        '자가용승용차등록대수' : [2302000,2317000,2338000,2387000,2437000,2475000,2514000,2527000,2539000,2940000] }\n",
    "data"
   ]
  },
  {
   "cell_type": "code",
   "execution_count": 58,
   "id": "ea90853e-778a-4412-915b-663b6f0dd429",
   "metadata": {},
   "outputs": [
    {
     "data": {
      "text/html": [
       "<div>\n",
       "<style scoped>\n",
       "    .dataframe tbody tr th:only-of-type {\n",
       "        vertical-align: middle;\n",
       "    }\n",
       "\n",
       "    .dataframe tbody tr th {\n",
       "        vertical-align: top;\n",
       "    }\n",
       "\n",
       "    .dataframe thead th {\n",
       "        text-align: right;\n",
       "    }\n",
       "</style>\n",
       "<table border=\"1\" class=\"dataframe\">\n",
       "  <thead>\n",
       "    <tr style=\"text-align: right;\">\n",
       "      <th></th>\n",
       "      <th>자동차등록대수</th>\n",
       "      <th>자가용승용차등록대수</th>\n",
       "    </tr>\n",
       "  </thead>\n",
       "  <tbody>\n",
       "    <tr>\n",
       "      <th>2011년</th>\n",
       "      <td>2978000</td>\n",
       "      <td>2302000</td>\n",
       "    </tr>\n",
       "    <tr>\n",
       "      <th>2012년</th>\n",
       "      <td>2969000</td>\n",
       "      <td>2317000</td>\n",
       "    </tr>\n",
       "    <tr>\n",
       "      <th>2013년</th>\n",
       "      <td>2973000</td>\n",
       "      <td>2338000</td>\n",
       "    </tr>\n",
       "    <tr>\n",
       "      <th>2014년</th>\n",
       "      <td>3013000</td>\n",
       "      <td>2387000</td>\n",
       "    </tr>\n",
       "    <tr>\n",
       "      <th>2015년</th>\n",
       "      <td>3057000</td>\n",
       "      <td>2437000</td>\n",
       "    </tr>\n",
       "    <tr>\n",
       "      <th>2016년</th>\n",
       "      <td>3083000</td>\n",
       "      <td>2475000</td>\n",
       "    </tr>\n",
       "    <tr>\n",
       "      <th>2017년</th>\n",
       "      <td>3116000</td>\n",
       "      <td>2514000</td>\n",
       "    </tr>\n",
       "    <tr>\n",
       "      <th>2018년</th>\n",
       "      <td>3124000</td>\n",
       "      <td>2527000</td>\n",
       "    </tr>\n",
       "    <tr>\n",
       "      <th>2019년</th>\n",
       "      <td>3124000</td>\n",
       "      <td>2539000</td>\n",
       "    </tr>\n",
       "    <tr>\n",
       "      <th>2020년</th>\n",
       "      <td>3157000</td>\n",
       "      <td>2940000</td>\n",
       "    </tr>\n",
       "  </tbody>\n",
       "</table>\n",
       "</div>"
      ],
      "text/plain": [
       "       자동차등록대수  자가용승용차등록대수\n",
       "2011년  2978000     2302000\n",
       "2012년  2969000     2317000\n",
       "2013년  2973000     2338000\n",
       "2014년  3013000     2387000\n",
       "2015년  3057000     2437000\n",
       "2016년  3083000     2475000\n",
       "2017년  3116000     2514000\n",
       "2018년  3124000     2527000\n",
       "2019년  3124000     2539000\n",
       "2020년  3157000     2940000"
      ]
     },
     "execution_count": 58,
     "metadata": {},
     "output_type": "execute_result"
    }
   ],
   "source": [
    "car = pd.DataFrame(data,columns=['자동차등록대수','자가용승용차등록대수'],index=['2011년','2012년','2013년','2014년','2015년','2016년','2017년','2018년','2019년','2020년'])\n",
    "car"
   ]
  },
  {
   "cell_type": "code",
   "execution_count": 65,
   "id": "c7f1a7c5-c05a-4be6-acaa-0b2c996f3264",
   "metadata": {},
   "outputs": [],
   "source": [
    "car_all = [2978000,2969000,2973000,3013000,3057000,3083000,3116000,3124000,3124000,3157000]\n",
    "car_own = [2302000,2317000,2338000,2387000,2437000,2475000,2514000,2527000,2539000,2940000]\n",
    "year = ['2011년','2012년','2013년','2014년','2015년','2016년','2017년','2018년','2019년','2020년']\n",
    "index=np.arange(len(year))"
   ]
  },
  {
   "cell_type": "code",
   "execution_count": 84,
   "id": "ed41a1a1-d296-44ce-a6c9-d943178426fc",
   "metadata": {},
   "outputs": [
    {
     "data": {
      "image/png": "[encoded data removed]",
      "text/plain": [
       "<Figure size 792x360 with 1 Axes>"
      ]
     },
     "metadata": {
      "needs_background": "light"
     },
     "output_type": "display_data"
    }
   ],
   "source": [
    "plt.figure(figsize=(11,5))\n",
    "plt.plot(index,car_all,color='red',marker='o',linestyle='solid')\n",
    "plt.plot(index,car_own,color='blue',marker='o',linestyle='solid')\n",
    "plt.legend(['자동차등록대수','자가용승용차 등록대수'],loc=4)\n",
    "plt.ylim(2000000,3300000)\n",
    "plt.xlabel('연도')\n",
    "plt.ylabel('대수(백만)')\n",
    "plt.xticks(index,years)\n",
    "plt.show()"
   ]
  },
  {
   "cell_type": "code",
   "execution_count": null,
   "id": "baafd4c4-b59c-4ef8-ac2d-3db4653e5c00",
   "metadata": {},
   "outputs": [],
   "source": []
  },
  {
   "cell_type": "code",
   "execution_count": null,
   "id": "669703c2-e8a7-4541-89b1-686878e06e42",
   "metadata": {},
   "outputs": [],
   "source": []
  }
 ],
 "metadata": {
  "kernelspec": {
   "display_name": "Python 3",
   "language": "python",
   "name": "python3"
  },
  "language_info": {
   "codemirror_mode": {
    "name": "ipython",
    "version": 3
   },
   "file_extension": ".py",
   "mimetype": "text/x-python",
   "name": "python",
   "nbconvert_exporter": "python",
   "pygments_lexer": "ipython3",
   "version": "3.8.8"
  }
 },
 "nbformat": 4,
 "nbformat_minor": 5
}
